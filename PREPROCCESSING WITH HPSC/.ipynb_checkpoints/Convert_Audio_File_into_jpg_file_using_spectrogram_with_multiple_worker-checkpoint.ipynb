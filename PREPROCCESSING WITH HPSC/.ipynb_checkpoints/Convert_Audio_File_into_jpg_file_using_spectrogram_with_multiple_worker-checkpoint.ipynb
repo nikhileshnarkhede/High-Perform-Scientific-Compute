{
 "cells": [
  {
   "cell_type": "markdown",
   "id": "b6a73ca5-416d-476f-8bf1-51591e59dc5b",
   "metadata": {},
   "source": [
    "# Import Lib"
   ]
  },
  {
   "cell_type": "code",
   "execution_count": 1,
   "id": "6cb42df3-9b80-43e6-a113-e83cba44e9f9",
   "metadata": {},
   "outputs": [],
   "source": [
    "import os\n",
    "from glob import glob\n",
    "import librosa\n",
    "import librosa.display\n",
    "import numpy as np\n",
    "import matplotlib.pyplot as plt\n",
    "import ipyparallel as ipp\n",
    "import time\n",
    "from warnings import filterwarnings\n",
    "filterwarnings('ignore')\n"
   ]
  },
  {
   "cell_type": "markdown",
   "id": "16acf9c7-f41b-4a7e-b551-a9e1408be4f6",
   "metadata": {},
   "source": [
    "# Function to create a spectrogram from an audio file "
   ]
  },
  {
   "cell_type": "code",
   "execution_count": 2,
   "id": "1c0115ad-bb1f-42fe-a8b1-3535b914042e",
   "metadata": {},
   "outputs": [],
   "source": [
    "def create_spectrogram(filename, name, store_path):\n",
    "    plt.interactive(False)\n",
    "    clip, sample_rate = librosa.load(filename, sr=None)\n",
    "    fig = plt.figure(figsize=[0.72, 0.72])\n",
    "    ax = fig.add_subplot(111)\n",
    "    ax.axes.get_xaxis().set_visible(False)\n",
    "    ax.axes.get_yaxis().set_visible(False)\n",
    "    ax.set_frame_on(False)\n",
    "    S = librosa.feature.melspectrogram(y=clip, sr=sample_rate)\n",
    "    librosa.display.specshow(librosa.power_to_db(S, ref=np.max))\n",
    "    filename = os.path.join(store_path, name + '.jpg')\n",
    "    plt.savefig(filename, dpi=400, bbox_inches='tight', pad_inches=0)\n",
    "    plt.close()\n",
    "    fig.clf()\n",
    "    plt.close(fig)\n",
    "    plt.close('all')\n",
    "    del filename, name, clip, sample_rate, fig, ax, S"
   ]
  },
  {
   "cell_type": "markdown",
   "id": "19eef408-eee2-40ed-873e-0d1ff97afbc0",
   "metadata": {},
   "source": [
    "# Helper function to process a single audio file"
   ]
  },
  {
   "cell_type": "code",
   "execution_count": 3,
   "id": "b9751847-9545-4ce3-80c4-23a7ef52fdaa",
   "metadata": {},
   "outputs": [],
   "source": [
    "def process_audio_file(file, folder_path):\n",
    "    name = os.path.basename(file)\n",
    "    create_spectrogram(file, name, folder_path)"
   ]
  },
  {
   "cell_type": "markdown",
   "id": "6a98ed23-439b-4c3a-9175-ea3e366ca405",
   "metadata": {},
   "source": [
    "# Convert Audio files to spectrogram JPG files with ipyparallel"
   ]
  },
  {
   "cell_type": "code",
   "execution_count": 4,
   "id": "2b338481-83b6-4e6d-b9dd-6b4e99c440fe",
   "metadata": {},
   "outputs": [],
   "source": [
    "def Convert_Audio_File_to_jpg_file(filename, store_filepath, number_of_worker):\n",
    "    \"\"\"\n",
    "    Convert audio files to spectrogram JPG files using ipyparallel.\n",
    "\n",
    "    Parameters:\n",
    "        filename (str): Path to the main directory containing audio files and number of worker.\n",
    "    \"\"\"\n",
    "    # Set up ipyparallel cluster\n",
    "    Execution_time = 0\n",
    "    rc = ipp.Cluster(n=number_of_worker).start_and_connect_sync()  # Start and connect cluster with 4 workers\n",
    "    dview = rc[:]  # Create a direct view to all workers\n",
    "\n",
    "    dview.push({\"create_spectrogram\": create_spectrogram})\n",
    "    dview.push({\"process_audio_file\": process_audio_file})\n",
    "    dview.execute(\"import os\")\n",
    "    dview.execute(\"import librosa\")\n",
    "    dview.execute(\"import librosa.display\")\n",
    "    dview.execute(\"import numpy as np\")\n",
    "    dview.execute(\"import matplotlib.pyplot as plt\")\n",
    "    dview.execute(\"import time\")\n",
    "\n",
    "    start_time = time.time()\n",
    "    # Make a dictionary for given class and their file path names\n",
    "    file_list = glob(os.path.join(filename, \"*\"))\n",
    "    file_dic = {}\n",
    "    for file in file_list:\n",
    "        all_files = []\n",
    "        for root, dirs, files in os.walk(file):\n",
    "            for file_ in files:\n",
    "                # Join the root directory with the file name to get the full path\n",
    "                all_files.append(os.path.join(root, file_))\n",
    "        file_dic[file] = all_files\n",
    "\n",
    "    # Create file directories to store the converted audio files into JPG\n",
    "    file_path = []\n",
    "    for folder in file_dic.keys():\n",
    "        folder_rot = os.path.join(store_filepath, os.path.basename(folder))\n",
    "        file_path.append(folder_rot)\n",
    "        os.makedirs(folder_rot, exist_ok=True)\n",
    "\n",
    "    # Delegate work to workers using dview.map_sync()\n",
    "    for i, folder in enumerate(file_dic.keys()):\n",
    "        music_files = file_dic[folder]\n",
    "        folder_path = file_path[i]\n",
    "        # Map the processing function across music files with ipyparallel\n",
    "        dview.map_sync(lambda file: process_audio_file(file, folder_path), music_files)\n",
    "    end_time = time.time()\n",
    "    elapsed_time = end_time - start_time\n",
    "    Execution_time = elapsed_time\n",
    "    print(f\"Execution time: {elapsed_time:.2f} seconds\")\n",
    "    # Shut down the cluster after processing\n",
    "    rc.shutdown()\n",
    "\n",
    "    return Execution_time"
   ]
  },
  {
   "cell_type": "markdown",
   "id": "487e95e1-3fbe-4278-93f6-b936ec929363",
   "metadata": {},
   "source": [
    "# Convert Audio File to jpg file"
   ]
  },
  {
   "cell_type": "code",
   "execution_count": 5,
   "id": "ca18aef6-14bf-471a-96df-e70c25e552e4",
   "metadata": {},
   "outputs": [
    {
     "name": "stdout",
     "output_type": "stream",
     "text": [
      "Starting 4 engines with <class 'ipyparallel.cluster.launcher.LocalEngineSetLauncher'>\n"
     ]
    },
    {
     "data": {
      "application/vnd.jupyter.widget-view+json": {
       "model_id": "d5f59e441a664ea185dd052c00e0ab81",
       "version_major": 2,
       "version_minor": 0
      },
      "text/plain": [
       "  0%|          | 0/4 [00:00<?, ?engine/s]"
      ]
     },
     "metadata": {},
     "output_type": "display_data"
    },
    {
     "name": "stdout",
     "output_type": "stream",
     "text": [
      "Execution time: 43.02 seconds\n"
     ]
    },
    {
     "data": {
      "text/plain": [
       "43.01757502555847"
      ]
     },
     "execution_count": 5,
     "metadata": {},
     "output_type": "execute_result"
    },
    {
     "name": "stdout",
     "output_type": "stream",
     "text": [
      "engine set stopped 1733365864: {'engines': {'2': {'exit_code': 0, 'pid': 20512, 'identifier': '2'}, '0': {'exit_code': 0, 'pid': 21332, 'identifier': '0'}, '3': {'exit_code': 0, 'pid': 10848, 'identifier': '3'}, '1': {'exit_code': 0, 'pid': 18488, 'identifier': '1'}}, 'exit_code': 0}\n"
     ]
    }
   ],
   "source": [
    "Audio_Data_Path = r\"C:\\Users\\nikhi\\OneDrive\\Desktop\\Final Project\\DATA\\genres\"\n",
    "Spectro_jpg_Path = r\"C:\\Users\\nikhi\\OneDrive\\Desktop\\Final Project\\DATA\\Convert_Audio_File_to_jpg_file\"\n",
    "Convert_Audio_File_to_jpg_file(Audio_Data_Path,Spectro_jpg_Path ,number_of_worker = 4)"
   ]
  },
  {
   "cell_type": "markdown",
   "id": "c8fef29d-584b-41c7-a033-9428765ecaa6",
   "metadata": {},
   "source": [
    "# Experiment with Core "
   ]
  },
  {
   "cell_type": "code",
   "execution_count": 6,
   "id": "e96bbdfb-f078-48c4-b07d-e1a357ba39ef",
   "metadata": {},
   "outputs": [
    {
     "name": "stdout",
     "output_type": "stream",
     "text": [
      "Starting 1 engines with <class 'ipyparallel.cluster.launcher.LocalEngineSetLauncher'>\n"
     ]
    },
    {
     "data": {
      "application/vnd.jupyter.widget-view+json": {
       "model_id": "0ef5e497dcc74474aed0919f39ec172c",
       "version_major": 2,
       "version_minor": 0
      },
      "text/plain": [
       "  0%|          | 0/1 [00:00<?, ?engine/s]"
      ]
     },
     "metadata": {},
     "output_type": "display_data"
    },
    {
     "name": "stdout",
     "output_type": "stream",
     "text": [
      "Execution time: 162.66 seconds\n",
      "engine set stopped 1733365915: {'engines': {'0': {'exit_code': 0, 'pid': 14416, 'identifier': '0'}}, 'exit_code': 0}\n",
      "Starting 2 engines with <class 'ipyparallel.cluster.launcher.LocalEngineSetLauncher'>\n"
     ]
    },
    {
     "data": {
      "application/vnd.jupyter.widget-view+json": {
       "model_id": "b26e46e8147642849d94ee658f6314c0",
       "version_major": 2,
       "version_minor": 0
      },
      "text/plain": [
       "  0%|          | 0/2 [00:00<?, ?engine/s]"
      ]
     },
     "metadata": {},
     "output_type": "display_data"
    },
    {
     "name": "stdout",
     "output_type": "stream",
     "text": [
      "Execution time: 78.02 seconds\n",
      "Failed to remove C:\\Users\\nikhi\\.ipython\\profile_default\\log\\ipengine-1733366084-vstu-1733366085-1.log: [WinError 5] Access is denied: 'C:\\\\Users\\\\nikhi\\\\.ipython\\\\profile_default\\\\log\\\\ipengine-1733366084-vstu-1733366085-1.log'\n",
      "engine set stopped 1733366085: {'engines': {'0': {'exit_code': 0, 'pid': 21460, 'identifier': '0'}, '1': {'exit_code': 0, 'pid': 27340, 'identifier': '1'}}, 'exit_code': 0}\n",
      "Starting 3 engines with <class 'ipyparallel.cluster.launcher.LocalEngineSetLauncher'>\n"
     ]
    },
    {
     "data": {
      "application/vnd.jupyter.widget-view+json": {
       "model_id": "f6ddda7482e34d10b43cbcfdf2d8fb2f",
       "version_major": 2,
       "version_minor": 0
      },
      "text/plain": [
       "  0%|          | 0/3 [00:00<?, ?engine/s]"
      ]
     },
     "metadata": {},
     "output_type": "display_data"
    },
    {
     "name": "stdout",
     "output_type": "stream",
     "text": [
      "Execution time: 54.51 seconds\n",
      "engine set stopped 1733366171: {'engines': {'2': {'exit_code': 0, 'pid': 25728, 'identifier': '2'}, '1': {'exit_code': 0, 'pid': 20336, 'identifier': '1'}, '0': {'exit_code': 0, 'pid': 25376, 'identifier': '0'}}, 'exit_code': 0}\n",
      "Starting 4 engines with <class 'ipyparallel.cluster.launcher.LocalEngineSetLauncher'>\n"
     ]
    },
    {
     "data": {
      "application/vnd.jupyter.widget-view+json": {
       "model_id": "149fee4d3c4743c7a8669afbe38a336e",
       "version_major": 2,
       "version_minor": 0
      },
      "text/plain": [
       "  0%|          | 0/4 [00:00<?, ?engine/s]"
      ]
     },
     "metadata": {},
     "output_type": "display_data"
    },
    {
     "name": "stdout",
     "output_type": "stream",
     "text": [
      "Execution time: 41.81 seconds\n",
      "engine set stopped 1733366233: {'engines': {'0': {'exit_code': 0, 'pid': 18900, 'identifier': '0'}, '2': {'exit_code': 0, 'pid': 20572, 'identifier': '2'}, '3': {'exit_code': 0, 'pid': 22864, 'identifier': '3'}, '1': {'exit_code': 0, 'pid': 23844, 'identifier': '1'}}, 'exit_code': 0}\n",
      "Starting 5 engines with <class 'ipyparallel.cluster.launcher.LocalEngineSetLauncher'>\n"
     ]
    },
    {
     "data": {
      "application/vnd.jupyter.widget-view+json": {
       "model_id": "6a5ec705150d42fb9e9f5867c880cbce",
       "version_major": 2,
       "version_minor": 0
      },
      "text/plain": [
       "  0%|          | 0/5 [00:00<?, ?engine/s]"
      ]
     },
     "metadata": {},
     "output_type": "display_data"
    },
    {
     "name": "stdout",
     "output_type": "stream",
     "text": [
      "Execution time: 35.43 seconds\n",
      "engine set stopped 1733366282: {'engines': {'3': {'exit_code': 0, 'pid': 25924, 'identifier': '3'}, '0': {'exit_code': 0, 'pid': 24580, 'identifier': '0'}, '2': {'exit_code': 0, 'pid': 27620, 'identifier': '2'}, '1': {'exit_code': 0, 'pid': 21080, 'identifier': '1'}, '4': {'exit_code': 0, 'pid': 19184, 'identifier': '4'}}, 'exit_code': 0}\n",
      "Starting 6 engines with <class 'ipyparallel.cluster.launcher.LocalEngineSetLauncher'>\n"
     ]
    },
    {
     "data": {
      "application/vnd.jupyter.widget-view+json": {
       "model_id": "67756e11147e480097e31a45a1d78934",
       "version_major": 2,
       "version_minor": 0
      },
      "text/plain": [
       "  0%|          | 0/6 [00:00<?, ?engine/s]"
      ]
     },
     "metadata": {},
     "output_type": "display_data"
    },
    {
     "name": "stdout",
     "output_type": "stream",
     "text": [
      "Execution time: 30.82 seconds\n",
      "engine set stopped 1733366326: {'engines': {'2': {'exit_code': 0, 'pid': 20140, 'identifier': '2'}, '0': {'exit_code': 0, 'pid': 23164, 'identifier': '0'}, '1': {'exit_code': 0, 'pid': 11856, 'identifier': '1'}, '5': {'exit_code': 0, 'pid': 26344, 'identifier': '5'}, '4': {'exit_code': 0, 'pid': 2152, 'identifier': '4'}, '3': {'exit_code': 0, 'pid': 27152, 'identifier': '3'}}, 'exit_code': 0}\n",
      "Starting 7 engines with <class 'ipyparallel.cluster.launcher.LocalEngineSetLauncher'>\n"
     ]
    },
    {
     "data": {
      "application/vnd.jupyter.widget-view+json": {
       "model_id": "d985a4d37bf04754bad4a6b24c70a0db",
       "version_major": 2,
       "version_minor": 0
      },
      "text/plain": [
       "  0%|          | 0/7 [00:00<?, ?engine/s]"
      ]
     },
     "metadata": {},
     "output_type": "display_data"
    },
    {
     "name": "stdout",
     "output_type": "stream",
     "text": [
      "Execution time: 28.52 seconds\n",
      "Failed to remove C:\\Users\\nikhi\\.ipython\\profile_default\\log\\ipengine-1733366363-hjat-1733366364-2.log: [WinError 2] The system cannot find the file specified: 'C:\\\\Users\\\\nikhi\\\\.ipython\\\\profile_default\\\\log\\\\ipengine-1733366363-hjat-1733366364-2.log'\n",
      "Failed to remove C:\\Users\\nikhi\\.ipython\\profile_default\\log\\ipengine-1733366363-hjat-1733366364-3.log: [WinError 32] The process cannot access the file because it is being used by another process: 'C:\\\\Users\\\\nikhi\\\\.ipython\\\\profile_default\\\\log\\\\ipengine-1733366363-hjat-1733366364-3.log'\n",
      "engine set stopped 1733366364: {'engines': {'1': {'exit_code': 0, 'pid': 23124, 'identifier': '1'}, '2': {'exit_code': 0, 'pid': 23284, 'identifier': '2'}, '3': {'exit_code': 0, 'pid': 10412, 'identifier': '3'}, '4': {'exit_code': 0, 'pid': 11464, 'identifier': '4'}, '5': {'exit_code': 0, 'pid': 1996, 'identifier': '5'}, '0': {'exit_code': 0, 'pid': 13308, 'identifier': '0'}, '6': {'exit_code': 0, 'pid': 26908, 'identifier': '6'}}, 'exit_code': 0}\n",
      "Starting 8 engines with <class 'ipyparallel.cluster.launcher.LocalEngineSetLauncher'>\n"
     ]
    },
    {
     "data": {
      "application/vnd.jupyter.widget-view+json": {
       "model_id": "d39a2487d3e34b9a9e83abb7b5391921",
       "version_major": 2,
       "version_minor": 0
      },
      "text/plain": [
       "  0%|          | 0/8 [00:00<?, ?engine/s]"
      ]
     },
     "metadata": {},
     "output_type": "display_data"
    },
    {
     "name": "stdout",
     "output_type": "stream",
     "text": [
      "Execution time: 26.41 seconds\n",
      "Failed to remove C:\\Users\\nikhi\\.ipython\\profile_default\\log\\ipengine-1733366400-7yh5-1733366401-1.log: [WinError 2] The system cannot find the file specified: 'C:\\\\Users\\\\nikhi\\\\.ipython\\\\profile_default\\\\log\\\\ipengine-1733366400-7yh5-1733366401-1.log'\n",
      "Failed to remove C:\\Users\\nikhi\\.ipython\\profile_default\\log\\ipengine-1733366400-7yh5-1733366401-6.log: [WinError 32] The process cannot access the file because it is being used by another process: 'C:\\\\Users\\\\nikhi\\\\.ipython\\\\profile_default\\\\log\\\\ipengine-1733366400-7yh5-1733366401-6.log'\n",
      "engine set stopped 1733366401: {'engines': {'0': {'exit_code': 0, 'pid': 24628, 'identifier': '0'}, '1': {'exit_code': 0, 'pid': 14832, 'identifier': '1'}, '7': {'exit_code': 0, 'pid': 15012, 'identifier': '7'}, '5': {'exit_code': 0, 'pid': 27244, 'identifier': '5'}, '3': {'exit_code': 0, 'pid': 15744, 'identifier': '3'}, '6': {'exit_code': 0, 'pid': 11516, 'identifier': '6'}, '4': {'exit_code': 0, 'pid': 4368, 'identifier': '4'}, '2': {'exit_code': 0, 'pid': 18236, 'identifier': '2'}}, 'exit_code': 0}\n"
     ]
    }
   ],
   "source": [
    "Execution_time = []\n",
    "Cores = range(1,9)\n",
    "for number_of_worker in Cores:\n",
    "   Execution_time.append(Convert_Audio_File_to_jpg_file(Audio_Data_Path, Spectro_jpg_Path, number_of_worker = number_of_worker))\n",
    "    "
   ]
  },
  {
   "cell_type": "markdown",
   "id": "61dd9b9f-beab-45ea-99c4-472b246ce0d4",
   "metadata": {},
   "source": [
    "## Number of Core vs Execution time"
   ]
  },
  {
   "cell_type": "code",
   "execution_count": 7,
   "id": "bb355f02-4636-4616-9eaf-bf38d00a2682",
   "metadata": {},
   "outputs": [
    {
     "data": {
      "image/png": "[encoded data removed]",
      "text/plain": [
       "<Figure size 640x480 with 1 Axes>"
      ]
     },
     "metadata": {},
     "output_type": "display_data"
    }
   ],
   "source": [
    "plt.plot(Cores, Execution_time)\n",
    "plt.xlabel('Number of Core')\n",
    "plt.ylabel('Execution time')\n",
    "plt.title('Number of Core vs Execution time')\n",
    "plt.show()"
   ]
  },
  {
   "cell_type": "markdown",
   "id": "4d5476b0-37e5-4b79-9203-047d2e26a471",
   "metadata": {},
   "source": [
    "## Number of Core vs Speed Up"
   ]
  },
  {
   "cell_type": "code",
   "execution_count": 8,
   "id": "0f3daa56-083e-46bd-8f13-35d4ef4eefa2",
   "metadata": {},
   "outputs": [
    {
     "data": {
      "image/png": "[encoded data removed]",
      "text/plain": [
       "<Figure size 640x480 with 1 Axes>"
      ]
     },
     "metadata": {},
     "output_type": "display_data"
    }
   ],
   "source": [
    "speed_up = []\n",
    "for i in Cores:\n",
    "    speed_up.append(Execution_time[0] / Execution_time[i - 1])\n",
    "\n",
    "plt.plot(Cores, speed_up)\n",
    "plt.xlabel('Number of Core')\n",
    "plt.ylabel('Speed Up')\n",
    "plt.title('Number of Core vs Speed Up')\n",
    "plt.show()"
   ]
  },
  {
   "cell_type": "markdown",
   "id": "4ae5870c-016b-444c-9df2-7c6c5fbaef5f",
   "metadata": {},
   "source": [
    "## Number of Core vs Efficiency"
   ]
  },
  {
   "cell_type": "code",
   "execution_count": 9,
   "id": "70079ee3-be8b-44c3-9a52-7fe5c59e9883",
   "metadata": {},
   "outputs": [
    {
     "data": {
      "image/png": "[encoded data removed]",
      "text/plain": [
       "<Figure size 640x480 with 1 Axes>"
      ]
     },
     "metadata": {},
     "output_type": "display_data"
    }
   ],
   "source": [
    "\n",
    "Efficiency = []\n",
    "for num_of_core in Cores:\n",
    "    Efficiency.append(speed_up[num_of_core - 1] / num_of_core)\n",
    "    \n",
    "plt.plot(Cores, Efficiency)\n",
    "plt.xlabel('Number of Core')\n",
    "plt.ylabel('Efficiency ')\n",
    "plt.title('Number of Core vs Efficiency')\n",
    "plt.show()"
   ]
  },
  {
   "cell_type": "code",
   "execution_count": null,
   "id": "4c84bf65-2b3d-4847-a536-d6361b0525f5",
   "metadata": {},
   "outputs": [],
   "source": []
  }
 ],
 "metadata": {
  "kernelspec": {
   "display_name": "Python 3 (ipykernel)",
   "language": "python",
   "name": "python3"
  },
  "language_info": {
   "codemirror_mode": {
    "name": "ipython",
    "version": 3
   },
   "file_extension": ".py",
   "mimetype": "text/x-python",
   "name": "python",
   "nbconvert_exporter": "python",
   "pygments_lexer": "ipython3",
   "version": "3.11.5"
  }
 },
 "nbformat": 4,
 "nbformat_minor": 5
}
