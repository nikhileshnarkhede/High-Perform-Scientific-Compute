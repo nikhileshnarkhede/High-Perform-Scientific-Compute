{
 "cells": [
  {
   "cell_type": "markdown",
   "id": "705d83ad-faed-491f-9609-4caf64a0da11",
   "metadata": {},
   "source": [
    "# Import Lib"
   ]
  },
  {
   "cell_type": "code",
   "execution_count": 1,
   "id": "687d7cd7-2f7c-4832-8e9e-3cd0a89bd279",
   "metadata": {},
   "outputs": [],
   "source": [
    "import time\n",
    "import librosa\n",
    "import librosa.display\n",
    "import matplotlib.pyplot as plt\n",
    "import glob \n",
    "import os\n",
    "import numpy as np"
   ]
  },
  {
   "cell_type": "markdown",
   "id": "b7c48a93-7fc6-491b-bb52-6777a8f3681d",
   "metadata": {},
   "source": [
    "# Function to create a spectrogram from an audio file "
   ]
  },
  {
   "cell_type": "code",
   "execution_count": 2,
   "id": "4b3cca85-3ba0-4197-a43f-80ede307a863",
   "metadata": {},
   "outputs": [],
   "source": [
    "def create_spectrogram(filename,name,store_path):\n",
    "    plt.interactive(False)\n",
    "    clip, sample_rate = librosa.load(filename, sr=None)\n",
    "    fig = plt.figure(figsize=[0.72,0.72])\n",
    "    ax = fig.add_subplot(111)\n",
    "    ax.axes.get_xaxis().set_visible(False)\n",
    "    ax.axes.get_yaxis().set_visible(False)\n",
    "    ax.set_frame_on(False)\n",
    "    S = librosa.feature.melspectrogram(y=clip, sr=sample_rate)\n",
    "    librosa.display.specshow(librosa.power_to_db(S, ref=np.max))\n",
    "    filename  = store_path + name + '.jpg'\n",
    "    plt.savefig(filename, dpi=400, bbox_inches='tight',pad_inches=0)\n",
    "    plt.close()    \n",
    "    fig.clf()\n",
    "    plt.close(fig)\n",
    "    plt.close('all')\n",
    "    del filename,name,clip,sample_rate,fig,ax,S"
   ]
  },
  {
   "cell_type": "markdown",
   "id": "5dc66976-ec80-4cfb-a279-f331d05a1d66",
   "metadata": {},
   "source": [
    "# Convert Audio files to spectrogram JPG files"
   ]
  },
  {
   "cell_type": "code",
   "execution_count": 3,
   "id": "ca9b1299-10c4-4367-9eb8-59c7db0b0b96",
   "metadata": {},
   "outputs": [],
   "source": [
    "def Convert_Audio_File_to_jpg_file(filename, store_filepath):\n",
    "    # Get a list of all top-level directories (subdirectories in `filename`)\n",
    "    file_list = list(glob.glob(os.path.join(filename, \"*\")))  # List subdirectories in the input path\n",
    "    file_dic = {}\n",
    "\n",
    "    for folder in file_list:\n",
    "        all_files = []\n",
    "        for root, dirs, files in os.walk(folder):\n",
    "            for file_ in files:\n",
    "                # Join the root directory with the file name to get the full path\n",
    "                all_files.append(os.path.join(root, file_))\n",
    "        file_dic[os.path.basename(folder)] = all_files  # Use only the folder name as the key\n",
    "\n",
    "    # Create subdirectories and convert audio files\n",
    "    for folder_name, music_files in file_dic.items():\n",
    "        subdirectory_path = os.path.join(store_filepath, folder_name)  # Subdirectory for each folder\n",
    "        os.makedirs(subdirectory_path, exist_ok=True)\n",
    "\n",
    "        # Convert each file and save in the respective subdirectory\n",
    "        for file in music_files:\n",
    "            output_filename = os.path.splitext(os.path.basename(file))[0]  # Remove extension from the file name\n",
    "            create_spectrogram(file, output_filename, subdirectory_path + os.sep)  # Pass subdirectory path with separator\n"
   ]
  },
  {
   "cell_type": "markdown",
   "id": "9f3e625c-adaa-42f3-af6b-11f03f16c209",
   "metadata": {},
   "source": [
    "# Convert Audio File to jpg file"
   ]
  },
  {
   "cell_type": "code",
   "execution_count": 4,
   "id": "360f5802-a170-48c2-9cd5-cc7caebf8359",
   "metadata": {},
   "outputs": [
    {
     "name": "stdout",
     "output_type": "stream",
     "text": [
      "Execution time: 163.56 seconds\n"
     ]
    }
   ],
   "source": [
    "# Measure the execution time\n",
    "start_time = time.time()\n",
    "\n",
    "Audio_Data_Path = \"C:\\\\Users\\\\nikhi\\\\OneDrive\\\\Desktop\\\\Final Project\\\\DATA\\\\genres\"\n",
    "Spectro_jpg_Path = \"C:\\\\Users\\\\nikhi\\\\OneDrive\\\\Desktop\\\\Final Project\\\\DATA\\\\Convert_Audio_File_to_jpg_file\"\n",
    "Convert_Audio_File_to_jpg_file(Audio_Data_Path, Spectro_jpg_Path)\n",
    "\n",
    "end_time = time.time()\n",
    "elapsed_time = end_time - start_time\n",
    "\n",
    "print(f\"Execution time: {elapsed_time:.2f} seconds\")"
   ]
  },
  {
   "cell_type": "code",
   "execution_count": null,
   "id": "b1a5a1e6-42d9-4015-967c-6adefe1e371d",
   "metadata": {},
   "outputs": [],
   "source": []
  }
 ],
 "metadata": {
  "kernelspec": {
   "display_name": "Python 3 (ipykernel)",
   "language": "python",
   "name": "python3"
  },
  "language_info": {
   "codemirror_mode": {
    "name": "ipython",
    "version": 3
   },
   "file_extension": ".py",
   "mimetype": "text/x-python",
   "name": "python",
   "nbconvert_exporter": "python",
   "pygments_lexer": "ipython3",
   "version": "3.11.5"
  }
 },
 "nbformat": 4,
 "nbformat_minor": 5
}
